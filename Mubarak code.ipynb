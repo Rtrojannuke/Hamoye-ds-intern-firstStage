{
 "cells": [
  {
   "cell_type": "code",
   "execution_count": 5,
   "metadata": {},
   "outputs": [
    {
     "name": "stdout",
     "output_type": "stream",
     "text": [
      "<class 'list'>\n",
      "<class 'numpy.ndarray'>\n",
      "(4,)\n",
      "int64\n",
      "1\n",
      "[[1 2 3]\n",
      " [4 5 6]]\n",
      "2\n"
     ]
    },
    {
     "data": {
      "text/plain": [
       "(2, 3)"
      ]
     },
     "execution_count": 5,
     "metadata": {},
     "output_type": "execute_result"
    }
   ],
   "source": [
    "#Example 1\n",
    "import numpy as np\n",
    "arr = [6, 7, 8, 9]\n",
    "print(type(arr)) \n",
    "a = np.array(arr)\n",
    "print(type(a)) \n",
    "print(a.shape) \n",
    "print(a.dtype) \n",
    "print(a.ndim) \n",
    "b = np.array([[1, 2, 3],[4, 5, 6]])\n",
    "print(b) \n",
    "print(b.ndim) \n",
    "b.shape "
   ]
  },
  {
   "cell_type": "code",
   "execution_count": 6,
   "metadata": {},
   "outputs": [
    {
     "name": "stdout",
     "output_type": "stream",
     "text": [
      "0       Monday\n",
      "1      Tuesday\n",
      "2    Wednesday\n",
      "dtype: object\n"
     ]
    }
   ],
   "source": [
    "import pandas as pd\n",
    "days = pd.Series(['Monday', 'Tuesday', 'Wednesday'])\n",
    "print(days) "
   ]
  },
  {
   "cell_type": "code",
   "execution_count": 8,
   "metadata": {},
   "outputs": [
    {
     "name": "stdout",
     "output_type": "stream",
     "text": [
      "a       Monday\n",
      "b      Tuesday\n",
      "c    Wednesday\n",
      "dtype: object\n"
     ]
    }
   ],
   "source": [
    "days = pd.Series(['Monday', 'Tuesday', 'Wednesday'],\n",
    "index=['a', 'b', 'c'])\n",
    "print(days)"
   ]
  },
  {
   "cell_type": "code",
   "execution_count": 15,
   "metadata": {},
   "outputs": [
    {
     "name": "stdout",
     "output_type": "stream",
     "text": [
      "   Country  Capital  Population  Age\n",
      "2    Ghana    Accra       10000   60\n",
      "4    Kenya  Nairobi        8500   70\n",
      "6  Nigeria    Abuja       35000   80\n",
      "8     Togo     Lome       12000   75\n"
     ]
    }
   ],
   "source": [
    "#DATAFRAME\n",
    "df_dict = {'Country': ['Ghana', 'Kenya', 'Nigeria', 'Togo'],\n",
    "'Capital': ['Accra', 'Nairobi', 'Abuja', 'Lome'],\n",
    "'Population': [10000, 8500, 35000, 12000],\n",
    "'Age': [60, 70, 80, 75]\n",
    "}\n",
    "df = pd.DataFrame(df_dict, index=[2, 4, 6, 8])\n",
    "df_list = [['Ghana', 'Accra', 10000, 60],\n",
    "['Kenya', 'Nairobi', 8500, 70],\n",
    "['Nigeria', 'Abuja', 35000, 80],\n",
    "['Togo', 'Lome', 12000, 75]]\n",
    "df1 = pd.DataFrame(df_list, columns=['Country', 'Capital','Population', 'Age'],\n",
    "index=[2, 4, 6, 8])\n",
    "print(df)"
   ]
  },
  {
   "cell_type": "code",
   "execution_count": 21,
   "metadata": {},
   "outputs": [
    {
     "name": "stdout",
     "output_type": "stream",
     "text": [
      "                     record_id  utility_id_ferc1  report_year  \\\n",
      "0        f1_fuel_1994_12_1_0_7                 1         1994   \n",
      "1       f1_fuel_1994_12_1_0_10                 1         1994   \n",
      "2        f1_fuel_1994_12_2_0_1                 2         1994   \n",
      "3        f1_fuel_1994_12_2_0_7                 2         1994   \n",
      "4       f1_fuel_1994_12_2_0_10                 2         1994   \n",
      "...                        ...               ...          ...   \n",
      "29518  f1_fuel_2018_12_12_0_13                12         2018   \n",
      "29519   f1_fuel_2018_12_12_1_1                12         2018   \n",
      "29520  f1_fuel_2018_12_12_1_10                12         2018   \n",
      "29521  f1_fuel_2018_12_12_1_13                12         2018   \n",
      "29522  f1_fuel_2018_12_12_1_14                12         2018   \n",
      "\n",
      "           plant_name_ferc1 fuel_type_code_pudl fuel_unit  fuel_qty_burned  \\\n",
      "0                  rockport                coal       ton        5377489.0   \n",
      "1      rockport total plant                coal       ton       10486945.0   \n",
      "2                    gorgas                coal       ton        2978683.0   \n",
      "3                     barry                coal       ton        3739484.0   \n",
      "4                 chickasaw                 gas       mcf          40533.0   \n",
      "...                     ...                 ...       ...              ...   \n",
      "29518    neil simpson ct #1                 gas       mcf          18799.0   \n",
      "29519  cheyenne prairie 58%                 gas       mcf         806730.0   \n",
      "29520     lange ct facility                 gas       mcf         104554.0   \n",
      "29521       wygen 3 bhp 52%                coal       ton         315945.0   \n",
      "29522       wygen 3 bhp 52%                 gas       mcf          17853.0   \n",
      "\n",
      "       fuel_mmbtu_per_unit  fuel_cost_per_unit_burned  \\\n",
      "0                   16.590                      18.59   \n",
      "1                   16.592                      18.58   \n",
      "2                   24.130                      39.72   \n",
      "3                   23.950                      47.21   \n",
      "4                    1.000                       2.77   \n",
      "...                    ...                        ...   \n",
      "29518                1.059                       4.78   \n",
      "29519                1.050                       3.65   \n",
      "29520                1.060                       4.77   \n",
      "29521               16.108                       3.06   \n",
      "29522                1.059                       0.00   \n",
      "\n",
      "       fuel_cost_per_unit_delivered  fuel_cost_per_mmbtu  \n",
      "0                             18.53                1.121  \n",
      "1                             18.53                1.120  \n",
      "2                             38.12                1.650  \n",
      "3                             45.99                1.970  \n",
      "4                              2.77                2.570  \n",
      "...                             ...                  ...  \n",
      "29518                          4.78                9.030  \n",
      "29519                          3.65                6.950  \n",
      "29520                          4.77                8.990  \n",
      "29521                         14.76                1.110  \n",
      "29522                          0.00               11.680  \n",
      "\n",
      "[29523 rows x 11 columns]\n"
     ]
    },
    {
     "ename": "XLRDError",
     "evalue": "Unsupported format, or corrupt file: Expected BOF record; found b'record_i'",
     "output_type": "error",
     "traceback": [
      "\u001b[0;31m---------------------------------------------------------------------------\u001b[0m",
      "\u001b[0;31mXLRDError\u001b[0m                                 Traceback (most recent call last)",
      "\u001b[0;32m<ipython-input-21-3894be8b4964>\u001b[0m in \u001b[0;36m<module>\u001b[0;34m\u001b[0m\n\u001b[1;32m      2\u001b[0m \u001b[0mcsv_df\u001b[0m\u001b[0;34m.\u001b[0m\u001b[0mto_csv\u001b[0m\u001b[0;34m(\u001b[0m\u001b[0;34m'fuel.csv'\u001b[0m\u001b[0;34m,\u001b[0m \u001b[0mindex\u001b[0m\u001b[0;34m=\u001b[0m\u001b[0;32mFalse\u001b[0m\u001b[0;34m)\u001b[0m\u001b[0;34m\u001b[0m\u001b[0;34m\u001b[0m\u001b[0m\n\u001b[1;32m      3\u001b[0m \u001b[0mprint\u001b[0m\u001b[0;34m(\u001b[0m\u001b[0mcsv_df\u001b[0m\u001b[0;34m)\u001b[0m\u001b[0;34m\u001b[0m\u001b[0;34m\u001b[0m\u001b[0m\n\u001b[0;32m----> 4\u001b[0;31m \u001b[0mexcel_df\u001b[0m \u001b[0;34m=\u001b[0m \u001b[0mpd\u001b[0m\u001b[0;34m.\u001b[0m\u001b[0mread_excel\u001b[0m\u001b[0;34m(\u001b[0m\u001b[0;34m'fuel.xlsx'\u001b[0m\u001b[0;34m)\u001b[0m\u001b[0;34m\u001b[0m\u001b[0;34m\u001b[0m\u001b[0m\n\u001b[0m\u001b[1;32m      5\u001b[0m \u001b[0mexcel_df\u001b[0m\u001b[0;34m.\u001b[0m\u001b[0mto_excel\u001b[0m\u001b[0;34m(\u001b[0m\u001b[0;34m'fuel.xlsx'\u001b[0m\u001b[0;34m)\u001b[0m\u001b[0;34m\u001b[0m\u001b[0;34m\u001b[0m\u001b[0m\n\u001b[1;32m      6\u001b[0m \u001b[0mprint\u001b[0m\u001b[0;34m(\u001b[0m\u001b[0mexcel_df\u001b[0m\u001b[0;34m)\u001b[0m\u001b[0;34m\u001b[0m\u001b[0;34m\u001b[0m\u001b[0m\n",
      "\u001b[0;32m/Applications/anaconda3/lib/python3.7/site-packages/pandas/io/excel/_base.py\u001b[0m in \u001b[0;36mread_excel\u001b[0;34m(io, sheet_name, header, names, index_col, usecols, squeeze, dtype, engine, converters, true_values, false_values, skiprows, nrows, na_values, keep_default_na, verbose, parse_dates, date_parser, thousands, comment, skipfooter, convert_float, mangle_dupe_cols, **kwds)\u001b[0m\n\u001b[1;32m    302\u001b[0m \u001b[0;34m\u001b[0m\u001b[0m\n\u001b[1;32m    303\u001b[0m     \u001b[0;32mif\u001b[0m \u001b[0;32mnot\u001b[0m \u001b[0misinstance\u001b[0m\u001b[0;34m(\u001b[0m\u001b[0mio\u001b[0m\u001b[0;34m,\u001b[0m \u001b[0mExcelFile\u001b[0m\u001b[0;34m)\u001b[0m\u001b[0;34m:\u001b[0m\u001b[0;34m\u001b[0m\u001b[0;34m\u001b[0m\u001b[0m\n\u001b[0;32m--> 304\u001b[0;31m         \u001b[0mio\u001b[0m \u001b[0;34m=\u001b[0m \u001b[0mExcelFile\u001b[0m\u001b[0;34m(\u001b[0m\u001b[0mio\u001b[0m\u001b[0;34m,\u001b[0m \u001b[0mengine\u001b[0m\u001b[0;34m=\u001b[0m\u001b[0mengine\u001b[0m\u001b[0;34m)\u001b[0m\u001b[0;34m\u001b[0m\u001b[0;34m\u001b[0m\u001b[0m\n\u001b[0m\u001b[1;32m    305\u001b[0m     \u001b[0;32melif\u001b[0m \u001b[0mengine\u001b[0m \u001b[0;32mand\u001b[0m \u001b[0mengine\u001b[0m \u001b[0;34m!=\u001b[0m \u001b[0mio\u001b[0m\u001b[0;34m.\u001b[0m\u001b[0mengine\u001b[0m\u001b[0;34m:\u001b[0m\u001b[0;34m\u001b[0m\u001b[0;34m\u001b[0m\u001b[0m\n\u001b[1;32m    306\u001b[0m         raise ValueError(\n",
      "\u001b[0;32m/Applications/anaconda3/lib/python3.7/site-packages/pandas/io/excel/_base.py\u001b[0m in \u001b[0;36m__init__\u001b[0;34m(self, io, engine)\u001b[0m\n\u001b[1;32m    819\u001b[0m         \u001b[0mself\u001b[0m\u001b[0;34m.\u001b[0m\u001b[0m_io\u001b[0m \u001b[0;34m=\u001b[0m \u001b[0mstringify_path\u001b[0m\u001b[0;34m(\u001b[0m\u001b[0mio\u001b[0m\u001b[0;34m)\u001b[0m\u001b[0;34m\u001b[0m\u001b[0;34m\u001b[0m\u001b[0m\n\u001b[1;32m    820\u001b[0m \u001b[0;34m\u001b[0m\u001b[0m\n\u001b[0;32m--> 821\u001b[0;31m         \u001b[0mself\u001b[0m\u001b[0;34m.\u001b[0m\u001b[0m_reader\u001b[0m \u001b[0;34m=\u001b[0m \u001b[0mself\u001b[0m\u001b[0;34m.\u001b[0m\u001b[0m_engines\u001b[0m\u001b[0;34m[\u001b[0m\u001b[0mengine\u001b[0m\u001b[0;34m]\u001b[0m\u001b[0;34m(\u001b[0m\u001b[0mself\u001b[0m\u001b[0;34m.\u001b[0m\u001b[0m_io\u001b[0m\u001b[0;34m)\u001b[0m\u001b[0;34m\u001b[0m\u001b[0;34m\u001b[0m\u001b[0m\n\u001b[0m\u001b[1;32m    822\u001b[0m \u001b[0;34m\u001b[0m\u001b[0m\n\u001b[1;32m    823\u001b[0m     \u001b[0;32mdef\u001b[0m \u001b[0m__fspath__\u001b[0m\u001b[0;34m(\u001b[0m\u001b[0mself\u001b[0m\u001b[0;34m)\u001b[0m\u001b[0;34m:\u001b[0m\u001b[0;34m\u001b[0m\u001b[0;34m\u001b[0m\u001b[0m\n",
      "\u001b[0;32m/Applications/anaconda3/lib/python3.7/site-packages/pandas/io/excel/_xlrd.py\u001b[0m in \u001b[0;36m__init__\u001b[0;34m(self, filepath_or_buffer)\u001b[0m\n\u001b[1;32m     19\u001b[0m         \u001b[0merr_msg\u001b[0m \u001b[0;34m=\u001b[0m \u001b[0;34m\"Install xlrd >= 1.0.0 for Excel support\"\u001b[0m\u001b[0;34m\u001b[0m\u001b[0;34m\u001b[0m\u001b[0m\n\u001b[1;32m     20\u001b[0m         \u001b[0mimport_optional_dependency\u001b[0m\u001b[0;34m(\u001b[0m\u001b[0;34m\"xlrd\"\u001b[0m\u001b[0;34m,\u001b[0m \u001b[0mextra\u001b[0m\u001b[0;34m=\u001b[0m\u001b[0merr_msg\u001b[0m\u001b[0;34m)\u001b[0m\u001b[0;34m\u001b[0m\u001b[0;34m\u001b[0m\u001b[0m\n\u001b[0;32m---> 21\u001b[0;31m         \u001b[0msuper\u001b[0m\u001b[0;34m(\u001b[0m\u001b[0;34m)\u001b[0m\u001b[0;34m.\u001b[0m\u001b[0m__init__\u001b[0m\u001b[0;34m(\u001b[0m\u001b[0mfilepath_or_buffer\u001b[0m\u001b[0;34m)\u001b[0m\u001b[0;34m\u001b[0m\u001b[0;34m\u001b[0m\u001b[0m\n\u001b[0m\u001b[1;32m     22\u001b[0m \u001b[0;34m\u001b[0m\u001b[0m\n\u001b[1;32m     23\u001b[0m     \u001b[0;34m@\u001b[0m\u001b[0mproperty\u001b[0m\u001b[0;34m\u001b[0m\u001b[0;34m\u001b[0m\u001b[0m\n",
      "\u001b[0;32m/Applications/anaconda3/lib/python3.7/site-packages/pandas/io/excel/_base.py\u001b[0m in \u001b[0;36m__init__\u001b[0;34m(self, filepath_or_buffer)\u001b[0m\n\u001b[1;32m    351\u001b[0m             \u001b[0mself\u001b[0m\u001b[0;34m.\u001b[0m\u001b[0mbook\u001b[0m \u001b[0;34m=\u001b[0m \u001b[0mself\u001b[0m\u001b[0;34m.\u001b[0m\u001b[0mload_workbook\u001b[0m\u001b[0;34m(\u001b[0m\u001b[0mfilepath_or_buffer\u001b[0m\u001b[0;34m)\u001b[0m\u001b[0;34m\u001b[0m\u001b[0;34m\u001b[0m\u001b[0m\n\u001b[1;32m    352\u001b[0m         \u001b[0;32melif\u001b[0m \u001b[0misinstance\u001b[0m\u001b[0;34m(\u001b[0m\u001b[0mfilepath_or_buffer\u001b[0m\u001b[0;34m,\u001b[0m \u001b[0mstr\u001b[0m\u001b[0;34m)\u001b[0m\u001b[0;34m:\u001b[0m\u001b[0;34m\u001b[0m\u001b[0;34m\u001b[0m\u001b[0m\n\u001b[0;32m--> 353\u001b[0;31m             \u001b[0mself\u001b[0m\u001b[0;34m.\u001b[0m\u001b[0mbook\u001b[0m \u001b[0;34m=\u001b[0m \u001b[0mself\u001b[0m\u001b[0;34m.\u001b[0m\u001b[0mload_workbook\u001b[0m\u001b[0;34m(\u001b[0m\u001b[0mfilepath_or_buffer\u001b[0m\u001b[0;34m)\u001b[0m\u001b[0;34m\u001b[0m\u001b[0;34m\u001b[0m\u001b[0m\n\u001b[0m\u001b[1;32m    354\u001b[0m         \u001b[0;32melif\u001b[0m \u001b[0misinstance\u001b[0m\u001b[0;34m(\u001b[0m\u001b[0mfilepath_or_buffer\u001b[0m\u001b[0;34m,\u001b[0m \u001b[0mbytes\u001b[0m\u001b[0;34m)\u001b[0m\u001b[0;34m:\u001b[0m\u001b[0;34m\u001b[0m\u001b[0;34m\u001b[0m\u001b[0m\n\u001b[1;32m    355\u001b[0m             \u001b[0mself\u001b[0m\u001b[0;34m.\u001b[0m\u001b[0mbook\u001b[0m \u001b[0;34m=\u001b[0m \u001b[0mself\u001b[0m\u001b[0;34m.\u001b[0m\u001b[0mload_workbook\u001b[0m\u001b[0;34m(\u001b[0m\u001b[0mBytesIO\u001b[0m\u001b[0;34m(\u001b[0m\u001b[0mfilepath_or_buffer\u001b[0m\u001b[0;34m)\u001b[0m\u001b[0;34m)\u001b[0m\u001b[0;34m\u001b[0m\u001b[0;34m\u001b[0m\u001b[0m\n",
      "\u001b[0;32m/Applications/anaconda3/lib/python3.7/site-packages/pandas/io/excel/_xlrd.py\u001b[0m in \u001b[0;36mload_workbook\u001b[0;34m(self, filepath_or_buffer)\u001b[0m\n\u001b[1;32m     34\u001b[0m             \u001b[0;32mreturn\u001b[0m \u001b[0mopen_workbook\u001b[0m\u001b[0;34m(\u001b[0m\u001b[0mfile_contents\u001b[0m\u001b[0;34m=\u001b[0m\u001b[0mdata\u001b[0m\u001b[0;34m)\u001b[0m\u001b[0;34m\u001b[0m\u001b[0;34m\u001b[0m\u001b[0m\n\u001b[1;32m     35\u001b[0m         \u001b[0;32melse\u001b[0m\u001b[0;34m:\u001b[0m\u001b[0;34m\u001b[0m\u001b[0;34m\u001b[0m\u001b[0m\n\u001b[0;32m---> 36\u001b[0;31m             \u001b[0;32mreturn\u001b[0m \u001b[0mopen_workbook\u001b[0m\u001b[0;34m(\u001b[0m\u001b[0mfilepath_or_buffer\u001b[0m\u001b[0;34m)\u001b[0m\u001b[0;34m\u001b[0m\u001b[0;34m\u001b[0m\u001b[0m\n\u001b[0m\u001b[1;32m     37\u001b[0m \u001b[0;34m\u001b[0m\u001b[0m\n\u001b[1;32m     38\u001b[0m     \u001b[0;34m@\u001b[0m\u001b[0mproperty\u001b[0m\u001b[0;34m\u001b[0m\u001b[0;34m\u001b[0m\u001b[0m\n",
      "\u001b[0;32m/Applications/anaconda3/lib/python3.7/site-packages/xlrd/__init__.py\u001b[0m in \u001b[0;36mopen_workbook\u001b[0;34m(filename, logfile, verbosity, use_mmap, file_contents, encoding_override, formatting_info, on_demand, ragged_rows)\u001b[0m\n\u001b[1;32m    155\u001b[0m         \u001b[0mformatting_info\u001b[0m\u001b[0;34m=\u001b[0m\u001b[0mformatting_info\u001b[0m\u001b[0;34m,\u001b[0m\u001b[0;34m\u001b[0m\u001b[0;34m\u001b[0m\u001b[0m\n\u001b[1;32m    156\u001b[0m         \u001b[0mon_demand\u001b[0m\u001b[0;34m=\u001b[0m\u001b[0mon_demand\u001b[0m\u001b[0;34m,\u001b[0m\u001b[0;34m\u001b[0m\u001b[0;34m\u001b[0m\u001b[0m\n\u001b[0;32m--> 157\u001b[0;31m         \u001b[0mragged_rows\u001b[0m\u001b[0;34m=\u001b[0m\u001b[0mragged_rows\u001b[0m\u001b[0;34m,\u001b[0m\u001b[0;34m\u001b[0m\u001b[0;34m\u001b[0m\u001b[0m\n\u001b[0m\u001b[1;32m    158\u001b[0m     )\n\u001b[1;32m    159\u001b[0m     \u001b[0;32mreturn\u001b[0m \u001b[0mbk\u001b[0m\u001b[0;34m\u001b[0m\u001b[0;34m\u001b[0m\u001b[0m\n",
      "\u001b[0;32m/Applications/anaconda3/lib/python3.7/site-packages/xlrd/book.py\u001b[0m in \u001b[0;36mopen_workbook_xls\u001b[0;34m(filename, logfile, verbosity, use_mmap, file_contents, encoding_override, formatting_info, on_demand, ragged_rows)\u001b[0m\n\u001b[1;32m     90\u001b[0m         \u001b[0mt1\u001b[0m \u001b[0;34m=\u001b[0m \u001b[0mperf_counter\u001b[0m\u001b[0;34m(\u001b[0m\u001b[0;34m)\u001b[0m\u001b[0;34m\u001b[0m\u001b[0;34m\u001b[0m\u001b[0m\n\u001b[1;32m     91\u001b[0m         \u001b[0mbk\u001b[0m\u001b[0;34m.\u001b[0m\u001b[0mload_time_stage_1\u001b[0m \u001b[0;34m=\u001b[0m \u001b[0mt1\u001b[0m \u001b[0;34m-\u001b[0m \u001b[0mt0\u001b[0m\u001b[0;34m\u001b[0m\u001b[0;34m\u001b[0m\u001b[0m\n\u001b[0;32m---> 92\u001b[0;31m         \u001b[0mbiff_version\u001b[0m \u001b[0;34m=\u001b[0m \u001b[0mbk\u001b[0m\u001b[0;34m.\u001b[0m\u001b[0mgetbof\u001b[0m\u001b[0;34m(\u001b[0m\u001b[0mXL_WORKBOOK_GLOBALS\u001b[0m\u001b[0;34m)\u001b[0m\u001b[0;34m\u001b[0m\u001b[0;34m\u001b[0m\u001b[0m\n\u001b[0m\u001b[1;32m     93\u001b[0m         \u001b[0;32mif\u001b[0m \u001b[0;32mnot\u001b[0m \u001b[0mbiff_version\u001b[0m\u001b[0;34m:\u001b[0m\u001b[0;34m\u001b[0m\u001b[0;34m\u001b[0m\u001b[0m\n\u001b[1;32m     94\u001b[0m             \u001b[0;32mraise\u001b[0m \u001b[0mXLRDError\u001b[0m\u001b[0;34m(\u001b[0m\u001b[0;34m\"Can't determine file's BIFF version\"\u001b[0m\u001b[0;34m)\u001b[0m\u001b[0;34m\u001b[0m\u001b[0;34m\u001b[0m\u001b[0m\n",
      "\u001b[0;32m/Applications/anaconda3/lib/python3.7/site-packages/xlrd/book.py\u001b[0m in \u001b[0;36mgetbof\u001b[0;34m(self, rqd_stream)\u001b[0m\n\u001b[1;32m   1276\u001b[0m             \u001b[0mbof_error\u001b[0m\u001b[0;34m(\u001b[0m\u001b[0;34m'Expected BOF record; met end of file'\u001b[0m\u001b[0;34m)\u001b[0m\u001b[0;34m\u001b[0m\u001b[0;34m\u001b[0m\u001b[0m\n\u001b[1;32m   1277\u001b[0m         \u001b[0;32mif\u001b[0m \u001b[0mopcode\u001b[0m \u001b[0;32mnot\u001b[0m \u001b[0;32min\u001b[0m \u001b[0mbofcodes\u001b[0m\u001b[0;34m:\u001b[0m\u001b[0;34m\u001b[0m\u001b[0;34m\u001b[0m\u001b[0m\n\u001b[0;32m-> 1278\u001b[0;31m             \u001b[0mbof_error\u001b[0m\u001b[0;34m(\u001b[0m\u001b[0;34m'Expected BOF record; found %r'\u001b[0m \u001b[0;34m%\u001b[0m \u001b[0mself\u001b[0m\u001b[0;34m.\u001b[0m\u001b[0mmem\u001b[0m\u001b[0;34m[\u001b[0m\u001b[0msavpos\u001b[0m\u001b[0;34m:\u001b[0m\u001b[0msavpos\u001b[0m\u001b[0;34m+\u001b[0m\u001b[0;36m8\u001b[0m\u001b[0;34m]\u001b[0m\u001b[0;34m)\u001b[0m\u001b[0;34m\u001b[0m\u001b[0;34m\u001b[0m\u001b[0m\n\u001b[0m\u001b[1;32m   1279\u001b[0m         \u001b[0mlength\u001b[0m \u001b[0;34m=\u001b[0m \u001b[0mself\u001b[0m\u001b[0;34m.\u001b[0m\u001b[0mget2bytes\u001b[0m\u001b[0;34m(\u001b[0m\u001b[0;34m)\u001b[0m\u001b[0;34m\u001b[0m\u001b[0;34m\u001b[0m\u001b[0m\n\u001b[1;32m   1280\u001b[0m         \u001b[0;32mif\u001b[0m \u001b[0mlength\u001b[0m \u001b[0;34m==\u001b[0m \u001b[0mMY_EOF\u001b[0m\u001b[0;34m:\u001b[0m\u001b[0;34m\u001b[0m\u001b[0;34m\u001b[0m\u001b[0m\n",
      "\u001b[0;32m/Applications/anaconda3/lib/python3.7/site-packages/xlrd/book.py\u001b[0m in \u001b[0;36mbof_error\u001b[0;34m(msg)\u001b[0m\n\u001b[1;32m   1270\u001b[0m \u001b[0;34m\u001b[0m\u001b[0m\n\u001b[1;32m   1271\u001b[0m         \u001b[0;32mdef\u001b[0m \u001b[0mbof_error\u001b[0m\u001b[0;34m(\u001b[0m\u001b[0mmsg\u001b[0m\u001b[0;34m)\u001b[0m\u001b[0;34m:\u001b[0m\u001b[0;34m\u001b[0m\u001b[0;34m\u001b[0m\u001b[0m\n\u001b[0;32m-> 1272\u001b[0;31m             \u001b[0;32mraise\u001b[0m \u001b[0mXLRDError\u001b[0m\u001b[0;34m(\u001b[0m\u001b[0;34m'Unsupported format, or corrupt file: '\u001b[0m \u001b[0;34m+\u001b[0m \u001b[0mmsg\u001b[0m\u001b[0;34m)\u001b[0m\u001b[0;34m\u001b[0m\u001b[0;34m\u001b[0m\u001b[0m\n\u001b[0m\u001b[1;32m   1273\u001b[0m         \u001b[0msavpos\u001b[0m \u001b[0;34m=\u001b[0m \u001b[0mself\u001b[0m\u001b[0;34m.\u001b[0m\u001b[0m_position\u001b[0m\u001b[0;34m\u001b[0m\u001b[0;34m\u001b[0m\u001b[0m\n\u001b[1;32m   1274\u001b[0m         \u001b[0mopcode\u001b[0m \u001b[0;34m=\u001b[0m \u001b[0mself\u001b[0m\u001b[0;34m.\u001b[0m\u001b[0mget2bytes\u001b[0m\u001b[0;34m(\u001b[0m\u001b[0;34m)\u001b[0m\u001b[0;34m\u001b[0m\u001b[0;34m\u001b[0m\u001b[0m\n",
      "\u001b[0;31mXLRDError\u001b[0m: Unsupported format, or corrupt file: Expected BOF record; found b'record_i'"
     ]
    }
   ],
   "source": [
    "csv_df = pd.read_csv('fuel.csv')\n",
    "csv_df.to_csv('fuel.csv', index=False)\n",
    "print(csv_df)\n",
    "excel_df = pd.read_excel('fuel.xlsx')\n",
    "excel_df.to_excel('fuel.xlsx')\n",
    "print(excel_df)"
   ]
  },
  {
   "cell_type": "code",
   "execution_count": 24,
   "metadata": {},
   "outputs": [
    {
     "name": "stdout",
     "output_type": "stream",
     "text": [
      "                      record_id  utility_id_ferc1  report_year  \\\n",
      "0         f1_fuel_1994_12_1_0_7                 1         1994   \n",
      "1        f1_fuel_1994_12_1_0_10                 1         1994   \n",
      "2         f1_fuel_1994_12_2_0_1                 2         1994   \n",
      "3         f1_fuel_1994_12_2_0_7                 2         1994   \n",
      "4        f1_fuel_1994_12_2_0_10                 2         1994   \n",
      "...                         ...               ...          ...   \n",
      "18995   f1_fuel_2009_12_182_1_9               182         2009   \n",
      "18996  f1_fuel_2009_12_182_1_10               182         2009   \n",
      "18997  f1_fuel_2009_12_182_1_13               182         2009   \n",
      "18998  f1_fuel_2009_12_182_1_14               182         2009   \n",
      "18999    f1_fuel_2009_12_79_0_1                79         2009   \n",
      "\n",
      "           plant_name_ferc1 fuel_type_code_pudl fuel_unit  fuel_qty_burned  \\\n",
      "0                  rockport                coal       ton        5377489.0   \n",
      "1      rockport total plant                coal       ton       10486945.0   \n",
      "2                    gorgas                coal       ton        2978683.0   \n",
      "3                     barry                coal       ton        3739484.0   \n",
      "4                 chickasaw                 gas       mcf          40533.0   \n",
      "...                     ...                 ...       ...              ...   \n",
      "18995             lake road                 gas       mcf         340857.0   \n",
      "18996             lake road                 oil       mcf            771.0   \n",
      "18997           iatan (18%)                coal       ton         414142.0   \n",
      "18998           iatan (18%)                 oil       bbl           5761.0   \n",
      "18999              montrose                coal       ton        2050919.0   \n",
      "\n",
      "       fuel_mmbtu_per_unit  fuel_cost_per_unit_burned  \\\n",
      "0                16.590000                     18.590   \n",
      "1                16.592000                     18.580   \n",
      "2                24.130000                     39.720   \n",
      "3                23.950000                     47.210   \n",
      "4                 1.000000                      2.770   \n",
      "...                    ...                        ...   \n",
      "18995             1.000000                      4.711   \n",
      "18996             5.801544                     84.899   \n",
      "18997            16.718000                     18.509   \n",
      "18998             5.537910                     83.636   \n",
      "18999            17.160000                     29.629   \n",
      "\n",
      "       fuel_cost_per_unit_delivered  fuel_cost_per_mmbtu  \n",
      "0                            18.530                1.121  \n",
      "1                            18.530                1.120  \n",
      "2                            38.120                1.650  \n",
      "3                            45.990                1.970  \n",
      "4                             2.770                2.570  \n",
      "...                             ...                  ...  \n",
      "18995                         4.711                4.711  \n",
      "18996                        84.899               14.634  \n",
      "18997                        17.570                1.107  \n",
      "18998                        72.280               15.102  \n",
      "18999                        28.330                1.727  \n",
      "\n",
      "[19000 rows x 11 columns]\n",
      "                     record_id  utility_id_ferc1  report_year  \\\n",
      "0       f1_fuel_2009_12_79_0_2                79         2009   \n",
      "1       f1_fuel_2009_12_79_0_4                79         2009   \n",
      "2       f1_fuel_2009_12_79_0_5                79         2009   \n",
      "3       f1_fuel_2009_12_79_0_7                79         2009   \n",
      "4      f1_fuel_2009_12_79_0_10                79         2009   \n",
      "...                        ...               ...          ...   \n",
      "10518  f1_fuel_2018_12_12_0_13                12         2018   \n",
      "10519   f1_fuel_2018_12_12_1_1                12         2018   \n",
      "10520  f1_fuel_2018_12_12_1_10                12         2018   \n",
      "10521  f1_fuel_2018_12_12_1_13                12         2018   \n",
      "10522  f1_fuel_2018_12_12_1_14                12         2018   \n",
      "\n",
      "           plant_name_ferc1 fuel_type_code_pudl fuel_unit  fuel_qty_burned  \\\n",
      "0                  montrose                 oil       bbl          22912.0   \n",
      "1                hawthorn 5                coal       ton        2408123.0   \n",
      "2                hawthorn 5                 gas       mcf          82141.0   \n",
      "3            hawthorn 6 & 9                 gas       mcf        1701680.0   \n",
      "4            hawthorn 7 & 8                 gas       mcf          82601.0   \n",
      "...                     ...                 ...       ...              ...   \n",
      "10518    neil simpson ct #1                 gas       mcf          18799.0   \n",
      "10519  cheyenne prairie 58%                 gas       mcf         806730.0   \n",
      "10520     lange ct facility                 gas       mcf         104554.0   \n",
      "10521       wygen 3 bhp 52%                coal       ton         315945.0   \n",
      "10522       wygen 3 bhp 52%                 gas       mcf          17853.0   \n",
      "\n",
      "       fuel_mmbtu_per_unit  fuel_cost_per_unit_burned  \\\n",
      "0                 5.770422                     65.443   \n",
      "1                16.782000                     18.598   \n",
      "2                 1.000000                      6.238   \n",
      "3                 1.000000                      4.885   \n",
      "4                 1.000000                      5.383   \n",
      "...                    ...                        ...   \n",
      "10518             1.059000                      4.780   \n",
      "10519             1.050000                      3.650   \n",
      "10520             1.060000                      4.770   \n",
      "10521            16.108000                      3.060   \n",
      "10522             1.059000                      0.000   \n",
      "\n",
      "       fuel_cost_per_unit_delivered  fuel_cost_per_mmbtu  \n",
      "0                            67.540               11.341  \n",
      "1                            18.310                1.108  \n",
      "2                             6.238                6.238  \n",
      "3                             4.885                4.885  \n",
      "4                             5.383                5.383  \n",
      "...                             ...                  ...  \n",
      "10518                         4.780                9.030  \n",
      "10519                         3.650                6.950  \n",
      "10520                         4.770                8.990  \n",
      "10521                        14.760                1.110  \n",
      "10522                         0.000               11.680  \n",
      "\n",
      "[10523 rows x 11 columns]\n",
      "Empty DataFrame\n",
      "Columns: [record_id, utility_id_ferc1, report_year, plant_name_ferc1, fuel_type_code_pudl, fuel_unit, fuel_qty_burned, fuel_mmbtu_per_unit, fuel_cost_per_unit_burned, fuel_cost_per_unit_delivered, fuel_cost_per_mmbtu]\n",
      "Index: []\n",
      "                     record_id  utility_id_ferc1  report_year  \\\n",
      "0        f1_fuel_1994_12_1_0_7                 1         1994   \n",
      "1       f1_fuel_1994_12_1_0_10                 1         1994   \n",
      "2        f1_fuel_1994_12_2_0_1                 2         1994   \n",
      "3        f1_fuel_1994_12_2_0_7                 2         1994   \n",
      "4       f1_fuel_1994_12_2_0_10                 2         1994   \n",
      "...                        ...               ...          ...   \n",
      "29518  f1_fuel_2018_12_12_0_13                12         2018   \n",
      "29519   f1_fuel_2018_12_12_1_1                12         2018   \n",
      "29520  f1_fuel_2018_12_12_1_10                12         2018   \n",
      "29521  f1_fuel_2018_12_12_1_13                12         2018   \n",
      "29522  f1_fuel_2018_12_12_1_14                12         2018   \n",
      "\n",
      "           plant_name_ferc1 fuel_type_code_pudl fuel_unit  fuel_qty_burned  \\\n",
      "0                  rockport                coal       ton        5377489.0   \n",
      "1      rockport total plant                coal       ton       10486945.0   \n",
      "2                    gorgas                coal       ton        2978683.0   \n",
      "3                     barry                coal       ton        3739484.0   \n",
      "4                 chickasaw                 gas       mcf          40533.0   \n",
      "...                     ...                 ...       ...              ...   \n",
      "29518    neil simpson ct #1                 gas       mcf          18799.0   \n",
      "29519  cheyenne prairie 58%                 gas       mcf         806730.0   \n",
      "29520     lange ct facility                 gas       mcf         104554.0   \n",
      "29521       wygen 3 bhp 52%                coal       ton         315945.0   \n",
      "29522       wygen 3 bhp 52%                 gas       mcf          17853.0   \n",
      "\n",
      "       fuel_mmbtu_per_unit  fuel_cost_per_unit_burned  \\\n",
      "0                   16.590                      18.59   \n",
      "1                   16.592                      18.58   \n",
      "2                   24.130                      39.72   \n",
      "3                   23.950                      47.21   \n",
      "4                    1.000                       2.77   \n",
      "...                    ...                        ...   \n",
      "29518                1.059                       4.78   \n",
      "29519                1.050                       3.65   \n",
      "29520                1.060                       4.77   \n",
      "29521               16.108                       3.06   \n",
      "29522                1.059                       0.00   \n",
      "\n",
      "       fuel_cost_per_unit_delivered  fuel_cost_per_mmbtu  \n",
      "0                             18.53                1.121  \n",
      "1                             18.53                1.120  \n",
      "2                             38.12                1.650  \n",
      "3                             45.99                1.970  \n",
      "4                              2.77                2.570  \n",
      "...                             ...                  ...  \n",
      "29518                          4.78                9.030  \n",
      "29519                          3.65                6.950  \n",
      "29520                          4.77                8.990  \n",
      "29521                         14.76                1.110  \n",
      "29522                          0.00               11.680  \n",
      "\n",
      "[29523 rows x 11 columns]\n",
      "                     record_id  utility_id_ferc1  report_year  \\\n",
      "0        f1_fuel_1994_12_1_0_7                 1         1994   \n",
      "1       f1_fuel_1994_12_1_0_10                 1         1994   \n",
      "2        f1_fuel_1994_12_2_0_1                 2         1994   \n",
      "3        f1_fuel_1994_12_2_0_7                 2         1994   \n",
      "4       f1_fuel_1994_12_2_0_10                 2         1994   \n",
      "...                        ...               ...          ...   \n",
      "29518  f1_fuel_2018_12_12_0_13                12         2018   \n",
      "29519   f1_fuel_2018_12_12_1_1                12         2018   \n",
      "29520  f1_fuel_2018_12_12_1_10                12         2018   \n",
      "29521  f1_fuel_2018_12_12_1_13                12         2018   \n",
      "29522  f1_fuel_2018_12_12_1_14                12         2018   \n",
      "\n",
      "           plant_name_ferc1 fuel_type_code_pudl fuel_unit  fuel_qty_burned  \\\n",
      "0                  rockport                coal       ton        5377489.0   \n",
      "1      rockport total plant                coal       ton       10486945.0   \n",
      "2                    gorgas                coal       ton        2978683.0   \n",
      "3                     barry                coal       ton        3739484.0   \n",
      "4                 chickasaw                 gas       mcf          40533.0   \n",
      "...                     ...                 ...       ...              ...   \n",
      "29518    neil simpson ct #1                 gas       mcf          18799.0   \n",
      "29519  cheyenne prairie 58%                 gas       mcf         806730.0   \n",
      "29520     lange ct facility                 gas       mcf         104554.0   \n",
      "29521       wygen 3 bhp 52%                coal       ton         315945.0   \n",
      "29522       wygen 3 bhp 52%                 gas       mcf          17853.0   \n",
      "\n",
      "       fuel_mmbtu_per_unit  fuel_cost_per_unit_burned  \\\n",
      "0                   16.590                      18.59   \n",
      "1                   16.592                      18.58   \n",
      "2                   24.130                      39.72   \n",
      "3                   23.950                      47.21   \n",
      "4                    1.000                       2.77   \n",
      "...                    ...                        ...   \n",
      "29518                1.059                       4.78   \n",
      "29519                1.050                       3.65   \n",
      "29520                1.060                       4.77   \n",
      "29521               16.108                       3.06   \n",
      "29522                1.059                       0.00   \n",
      "\n",
      "       fuel_cost_per_unit_delivered  fuel_cost_per_mmbtu  \n",
      "0                             18.53                1.121  \n",
      "1                             18.53                1.120  \n",
      "2                             38.12                1.650  \n",
      "3                             45.99                1.970  \n",
      "4                              2.77                2.570  \n",
      "...                             ...                  ...  \n",
      "29518                          4.78                9.030  \n",
      "29519                          3.65                6.950  \n",
      "29520                          4.77                8.990  \n",
      "29521                         14.76                1.110  \n",
      "29522                          0.00               11.680  \n",
      "\n",
      "[29523 rows x 11 columns]\n",
      "                     record_id  utility_id_ferc1  report_year  \\\n",
      "0        f1_fuel_1994_12_1_0_7                 1         1994   \n",
      "1       f1_fuel_1994_12_1_0_10                 1         1994   \n",
      "2        f1_fuel_1994_12_2_0_1                 2         1994   \n",
      "3        f1_fuel_1994_12_2_0_7                 2         1994   \n",
      "4       f1_fuel_1994_12_2_0_10                 2         1994   \n",
      "...                        ...               ...          ...   \n",
      "59041  f1_fuel_2018_12_12_0_13                12         2018   \n",
      "59042   f1_fuel_2018_12_12_1_1                12         2018   \n",
      "59043  f1_fuel_2018_12_12_1_10                12         2018   \n",
      "59044  f1_fuel_2018_12_12_1_13                12         2018   \n",
      "59045  f1_fuel_2018_12_12_1_14                12         2018   \n",
      "\n",
      "           plant_name_ferc1 fuel_type_code_pudl fuel_unit  fuel_qty_burned  \\\n",
      "0                  rockport                coal       ton        5377489.0   \n",
      "1      rockport total plant                coal       ton       10486945.0   \n",
      "2                    gorgas                coal       ton        2978683.0   \n",
      "3                     barry                coal       ton        3739484.0   \n",
      "4                 chickasaw                 gas       mcf          40533.0   \n",
      "...                     ...                 ...       ...              ...   \n",
      "59041    neil simpson ct #1                 gas       mcf          18799.0   \n",
      "59042  cheyenne prairie 58%                 gas       mcf         806730.0   \n",
      "59043     lange ct facility                 gas       mcf         104554.0   \n",
      "59044       wygen 3 bhp 52%                coal       ton         315945.0   \n",
      "59045       wygen 3 bhp 52%                 gas       mcf          17853.0   \n",
      "\n",
      "       fuel_mmbtu_per_unit  fuel_cost_per_unit_burned  \\\n",
      "0                   16.590                      18.59   \n",
      "1                   16.592                      18.58   \n",
      "2                   24.130                      39.72   \n",
      "3                   23.950                      47.21   \n",
      "4                    1.000                       2.77   \n",
      "...                    ...                        ...   \n",
      "59041                1.059                       4.78   \n",
      "59042                1.050                       3.65   \n",
      "59043                1.060                       4.77   \n",
      "59044               16.108                       3.06   \n",
      "59045                1.059                       0.00   \n",
      "\n",
      "       fuel_cost_per_unit_delivered  fuel_cost_per_mmbtu  \n",
      "0                             18.53                1.121  \n",
      "1                             18.53                1.120  \n",
      "2                             38.12                1.650  \n",
      "3                             45.99                1.970  \n",
      "4                              2.77                2.570  \n",
      "...                             ...                  ...  \n",
      "59041                          4.78                9.030  \n",
      "59042                          3.65                6.950  \n",
      "59043                          4.77                8.990  \n",
      "59044                         14.76                1.110  \n",
      "59045                          0.00               11.680  \n",
      "\n",
      "[59046 rows x 11 columns]\n"
     ]
    }
   ],
   "source": [
    "url='https://github.com/WalePhenomenon/climate_change/blob/master/fuel_ferc1.csv?raw=true'\n",
    "fuel_data = pd.read_csv(url, error_bad_lines=False)\n",
    "fuel_data.describe(include='all')\n",
    "fuel_data.isnull().sum()\n",
    "fuel_data.groupby('fuel_unit')['fuel_unit'].count()\n",
    "fuel_data[['fuel_unit']] = fuel_data[['fuel_unit']].fillna(value='mcf')\n",
    "fuel_data.isnull().sum()\n",
    "fuel_data.groupby('fuel_type_code_pudl').first()\n",
    "fuel_df1 = fuel_data.iloc[0:19000].reset_index(drop=True)\n",
    "fuel_df2 = fuel_data.iloc[19000:].reset_index(drop=True)\n",
    "assert len(fuel_data) == (len(fuel_df1) + len(fuel_df2))\n",
    "g = pd.merge(fuel_df1, fuel_df2, how=\"inner\")\n",
    "h = pd.merge(fuel_df1, fuel_df2, how=\"outer\")\n",
    "i = pd.merge(fuel_df1, fuel_df2, how=\"outer\")\n",
    "j = pd.concat([fuel_data, fuel_df1,fuel_df2]).reset_index(drop=True)\n",
    "fuel_data.duplicated().any()\n",
    "print(fuel_df1)\n",
    "print(fuel_df2)\n",
    "print(g)\n",
    "print(h)\n",
    "print(i)\n",
    "print(j)"
   ]
  },
  {
   "cell_type": "code",
   "execution_count": 27,
   "metadata": {},
   "outputs": [
    {
     "data": {
      "text/plain": [
       "Text(0.5, 0, 'Fuel Unit')"
      ]
     },
     "execution_count": 27,
     "metadata": {},
     "output_type": "execute_result"
    },
    {
     "data": {
      "image/png": "[encoded data removed]",
      "text/plain": [
       "<Figure size 504x288 with 1 Axes>"
      ]
     },
     "metadata": {
      "needs_background": "light"
     },
     "output_type": "display_data"
    }
   ],
   "source": [
    "import matplotlib.pyplot as plt\n",
    "import seaborn as sns\n",
    "plt.figure(figsize=(7,4))\n",
    "plt.xticks(rotation=90)\n",
    "fuel_unit = pd.DataFrame({'unit':['BBL', 'GAL', 'GRAMSU', 'KGU', 'MCF', 'MMBTU',\n",
    "'MWDTH', 'MWHTH', 'TON'],\n",
    "'count':[7998, 84, 464, 110, 11354, 180, 95, 100, 8958]})\n",
    "sns.barplot(data=fuel_unit, x='unit', y='count')\n",
    "plt.xlabel('Fuel Unit')\n",
    "g = sns.barplot(data=fuel_unit, x='unit', y='count')\n",
    "g.set_yscale(\"log\")\n",
    "g.set_ylim(1, 12000)\n",
    "plt.xlabel('Fuel Unit')"
   ]
  },
  {
   "cell_type": "code",
   "execution_count": 28,
   "metadata": {},
   "outputs": [
    {
     "data": {
      "text/plain": [
       "<matplotlib.axes._subplots.AxesSubplot at 0x1a25683a90>"
      ]
     },
     "execution_count": 28,
     "metadata": {},
     "output_type": "execute_result"
    },
    {
     "data": {
      "image/png": "[encoded data removed]",
      "text/plain": [
       "<Figure size 432x288 with 1 Axes>"
      ]
     },
     "metadata": {
      "needs_background": "light"
     },
     "output_type": "display_data"
    }
   ],
   "source": [
    "fuel_unit = pd.DataFrame({'unit':['BBL', 'GAL', 'GRAMSU', 'KGU', 'MCF', 'MMBTU',\n",
    "'MWDTH', 'MWHTH', 'TON'],\n",
    "'count':[7998, 84, 464, 110, 11354, 180, 95, 100, 8958]})\n",
    "sample_df = fuel_data.sample(n=50, random_state=4)\n",
    "sns.regplot(x=sample_df[\"utility_id_ferc1\"], y=sample_df[\"fuel_cost_per_mmbtu\"],\n",
    "fit_reg=False)"
   ]
  },
  {
   "cell_type": "code",
   "execution_count": 37,
   "metadata": {},
   "outputs": [
    {
     "data": {
      "text/plain": [
       "<matplotlib.axes._subplots.AxesSubplot at 0x11f63c390>"
      ]
     },
     "execution_count": 37,
     "metadata": {},
     "output_type": "execute_result"
    },
    {
     "data": {
      "image/png": "[encoded data removed]",
      "text/plain": [
       "<Figure size 432x288 with 1 Axes>"
      ]
     },
     "metadata": {
      "needs_background": "light"
     },
     "output_type": "display_data"
    }
   ],
   "source": [
    "import seaborn as sns\n",
    "fuel_unit = pd.DataFrame({'fuel_type_code_pudl':['BBL', 'GAL', 'GRAMSU', 'KGU', 'MCF', 'MMBTU',\n",
    "'MWDTH', 'MWHTH', 'TON'],\n",
    "'utility_id_ferc1':[79980, 84000, 46400, 110000, 11354, 18000, 95000, 100000, 89580]})\n",
    "sns.boxplot(x=\"fuel_type_code_pudl\", y=\"utility_id_ferc1\",palette=[\"m\", \"g\"], data=fuel_unit)\n",
    "sns.kdeplot(sample_df['fuel_cost_per_unit_burned'], shade=True, color=\"b\")"
   ]
  },
  {
   "cell_type": "code",
   "execution_count": null,
   "metadata": {},
   "outputs": [],
   "source": []
  }
 ],
 "metadata": {
  "kernelspec": {
   "display_name": "Python 3",
   "language": "python",
   "name": "python3"
  },
  "language_info": {
   "codemirror_mode": {
    "name": "ipython",
    "version": 3
   },
   "file_extension": ".py",
   "mimetype": "text/x-python",
   "name": "python",
   "nbconvert_exporter": "python",
   "pygments_lexer": "ipython3",
   "version": "3.7.6"
  }
 },
 "nbformat": 4,
 "nbformat_minor": 4
}
